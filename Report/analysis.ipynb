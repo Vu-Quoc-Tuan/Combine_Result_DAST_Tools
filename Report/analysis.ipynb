{
 "cells": [
  {
   "cell_type": "code",
   "execution_count": 2,
   "id": "2e4c28d1",
   "metadata": {},
   "outputs": [],
   "source": [
    "import pandas as pd\n",
    "import numpy as np"
   ]
  },
  {
   "cell_type": "code",
   "execution_count": 3,
   "id": "749a1ca3",
   "metadata": {},
   "outputs": [
    {
     "name": "stdout",
     "output_type": "stream",
     "text": [
      "e:\\Lab\\code\\Combine_Result_DAST_Tools\\Report\n"
     ]
    }
   ],
   "source": [
    "import os\n",
    "print(os.getcwd())"
   ]
  },
  {
   "cell_type": "markdown",
   "id": "dd0d8283",
   "metadata": {},
   "source": [
    "Load EXPECTED RESULT"
   ]
  },
  {
   "cell_type": "code",
   "execution_count": 4,
   "id": "dfd50270",
   "metadata": {},
   "outputs": [],
   "source": [
    "expected_result = pd.read_csv('expectedresults-1.2.csv')"
   ]
  },
  {
   "cell_type": "code",
   "execution_count": 5,
   "id": "134f425d",
   "metadata": {},
   "outputs": [],
   "source": [
    "expected_result = expected_result[['# test name', ' category', ' real vulnerability']]"
   ]
  },
  {
   "cell_type": "code",
   "execution_count": 6,
   "id": "7933686a",
   "metadata": {},
   "outputs": [
    {
     "data": {
      "text/plain": [
       "array(['pathtraver', 'hash', 'trustbound', 'crypto', 'cmdi', 'sqli',\n",
       "       'weakrand', 'ldapi', 'xss', 'securecookie', 'xpathi'], dtype=object)"
      ]
     },
     "execution_count": 6,
     "metadata": {},
     "output_type": "execute_result"
    }
   ],
   "source": [
    "expected_result[' category'].unique()"
   ]
  },
  {
   "cell_type": "code",
   "execution_count": 7,
   "id": "6261309c",
   "metadata": {},
   "outputs": [],
   "source": [
    "pathtraversal = expected_result[expected_result[' category'] == 'pathtraver']\n",
    "cmdi = expected_result[expected_result[' category'] == 'cmdi']\n",
    "sqli = expected_result[expected_result[' category'] == 'sqli']\n",
    "ldapi = expected_result[expected_result[' category'] == 'ldapi']\n",
    "xss = expected_result[expected_result[' category'] == 'xss']\n",
    "securecookie = expected_result[expected_result[' category'] == 'securecookie']"
   ]
  },
  {
   "cell_type": "markdown",
   "id": "5b1e7d84",
   "metadata": {},
   "source": [
    "LOAD REPORT"
   ]
  },
  {
   "cell_type": "code",
   "execution_count": 8,
   "id": "fb1ec4ae",
   "metadata": {},
   "outputs": [],
   "source": [
    "wapiti_rp = pd.read_json('./Raw/Wapiti_report/path.json')\n",
    "zap_rp = pd.read_json('./Raw/ZAP_report/path.json')\n",
    "merge_rp = pd.read_json('./Combine_report/merged_sarif.json')"
   ]
  },
  {
   "cell_type": "code",
   "execution_count": 9,
   "id": "3a5a1720",
   "metadata": {},
   "outputs": [],
   "source": [
    "vul_merge = merge_rp['runs']\n",
    "vul_zap = zap_rp['runs']\n",
    "vul_wapiti = wapiti_rp['vulnerabilities']['Reflected Cross Site Scripting']"
   ]
  },
  {
   "cell_type": "code",
   "execution_count": 10,
   "id": "48e40aab",
   "metadata": {},
   "outputs": [
    {
     "name": "stdout",
     "output_type": "stream",
     "text": [
      "Số lượng không phải 'wapiti-internal-server-error': 72\n",
      "Số lượng sever_errors: 5\n",
      "Số lượng sever_errors unique: 5\n",
      "Số lượng merge_errors unique: 72\n"
     ]
    }
   ],
   "source": [
    "merge_errors = []\n",
    "sever_errors = []\n",
    "for run in vul_merge:\n",
    "    for result in run.get('results', []):\n",
    "        if result.get('ruleId') != 'wapiti-internal-server-error':\n",
    "            if len(result.get('locations', [{}])[0].get('physicalLocation', {}).get('artifactLocation', {}).get('uri')) != 2:\n",
    "                url = result.get('locations', [{}])[0].get('physicalLocation', {}).get('artifactLocation', {}).get('uri')\n",
    "                cond = url.split(\"/\")[-1].split(\"?\")[0]\n",
    "                merge_errors.append(cond)\n",
    "            else:\n",
    "                url = result.get('locations', [{}])[0].get('physicalLocation', {}).get('artifactLocation', {}).get('uri')[1]\n",
    "                cond = url.split(\" \")[2].split(\"/\")[-1].split(\"?\")[0]\n",
    "                merge_errors.append(cond)\n",
    "        else:\n",
    "            url = result.get('locations', [{}])[0].get('physicalLocation', {}).get('artifactLocation', {}).get('uri')\n",
    "            cond = url.split(\"/\")[-1].split(\"?\")[0]\n",
    "            sever_errors.append(cond)\n",
    "\n",
    "print(\"Số lượng không phải 'wapiti-internal-server-error':\", len(merge_errors))\n",
    "print(\"Số lượng sever_errors:\", len(sever_errors))\n",
    "print(\"Số lượng sever_errors unique:\", len(set(sever_errors)))\n",
    "print(\"Số lượng merge_errors unique:\", len(set(merge_errors + sever_errors)))"
   ]
  },
  {
   "cell_type": "code",
   "execution_count": 28,
   "id": "e7b50bfa",
   "metadata": {},
   "outputs": [
    {
     "name": "stdout",
     "output_type": "stream",
     "text": [
      "Số lượng không phải 'wapiti-internal-server-error': 71\n",
      "Số lượng zap_errors unique: 68\n"
     ]
    }
   ],
   "source": [
    "zap_errors = []\n",
    "for run in vul_zap:\n",
    "    for result in run.get('results', []):\n",
    "        url = result.get('locations', [{}])[0].get('physicalLocation', {}).get('artifactLocation', {}).get('uri')\n",
    "        cond = url.split(\"/\")[-1].split(\"?\")[0]\n",
    "        zap_errors.append(cond)\n",
    "\n",
    "print(\"Số lượng không phải 'wapiti-internal-server-error':\", len(zap_errors))\n",
    "print(\"Số lượng zap_errors unique:\", len(set(zap_errors)))"
   ]
  },
  {
   "cell_type": "code",
   "execution_count": 12,
   "id": "d643aad9",
   "metadata": {},
   "outputs": [
    {
     "name": "stdout",
     "output_type": "stream",
     "text": [
      "Số lượng Command execution của Wapiti: 138\n",
      "Số lượng wapiti_errors unique: 138\n"
     ]
    }
   ],
   "source": [
    "wapiti_errors = []\n",
    "for result in vul_wapiti:\n",
    "    url = result.get('path')\n",
    "    cond = url.split(\"/\")[-1]\n",
    "    wapiti_errors.append(cond)\n",
    "print(\"Số lượng Command execution của Wapiti:\", len(wapiti_errors))\n",
    "print(\"Số lượng wapiti_errors unique:\", len(set(wapiti_errors)))"
   ]
  },
  {
   "cell_type": "code",
   "execution_count": 12,
   "id": "a4ef8c03",
   "metadata": {},
   "outputs": [],
   "source": [
    "wapitit = list(set(wapiti_errors)) + list(set(sever_errors))"
   ]
  },
  {
   "cell_type": "markdown",
   "id": "dfd0763e",
   "metadata": {},
   "source": [
    "COMPARE"
   ]
  },
  {
   "cell_type": "code",
   "execution_count": 13,
   "id": "1fe8196b",
   "metadata": {},
   "outputs": [],
   "source": [
    "tmp = xss.copy()"
   ]
  },
  {
   "cell_type": "code",
   "execution_count": 14,
   "id": "d5f3fddc",
   "metadata": {},
   "outputs": [
    {
     "name": "stdout",
     "output_type": "stream",
     "text": [
      " real vulnerability\n",
      "True     246\n",
      "False    209\n",
      "Name: count, dtype: int64\n"
     ]
    }
   ],
   "source": [
    "print(xss[' real vulnerability'].value_counts())"
   ]
  },
  {
   "cell_type": "code",
   "execution_count": 15,
   "id": "6731205b",
   "metadata": {},
   "outputs": [],
   "source": [
    "tmp[\"predicted\"] = 0"
   ]
  },
  {
   "cell_type": "code",
   "execution_count": 16,
   "id": "a20a578c",
   "metadata": {},
   "outputs": [
    {
     "data": {
      "text/html": [
       "<div>\n",
       "<style scoped>\n",
       "    .dataframe tbody tr th:only-of-type {\n",
       "        vertical-align: middle;\n",
       "    }\n",
       "\n",
       "    .dataframe tbody tr th {\n",
       "        vertical-align: top;\n",
       "    }\n",
       "\n",
       "    .dataframe thead th {\n",
       "        text-align: right;\n",
       "    }\n",
       "</style>\n",
       "<table border=\"1\" class=\"dataframe\">\n",
       "  <thead>\n",
       "    <tr style=\"text-align: right;\">\n",
       "      <th></th>\n",
       "      <th># test name</th>\n",
       "      <th>category</th>\n",
       "      <th>real vulnerability</th>\n",
       "      <th>predicted</th>\n",
       "    </tr>\n",
       "  </thead>\n",
       "  <tbody>\n",
       "    <tr>\n",
       "      <th>12</th>\n",
       "      <td>BenchmarkTest00013</td>\n",
       "      <td>xss</td>\n",
       "      <td>True</td>\n",
       "      <td>0</td>\n",
       "    </tr>\n",
       "    <tr>\n",
       "      <th>13</th>\n",
       "      <td>BenchmarkTest00014</td>\n",
       "      <td>xss</td>\n",
       "      <td>True</td>\n",
       "      <td>0</td>\n",
       "    </tr>\n",
       "    <tr>\n",
       "      <th>29</th>\n",
       "      <td>BenchmarkTest00030</td>\n",
       "      <td>xss</td>\n",
       "      <td>True</td>\n",
       "      <td>0</td>\n",
       "    </tr>\n",
       "    <tr>\n",
       "      <th>35</th>\n",
       "      <td>BenchmarkTest00036</td>\n",
       "      <td>xss</td>\n",
       "      <td>True</td>\n",
       "      <td>0</td>\n",
       "    </tr>\n",
       "    <tr>\n",
       "      <th>40</th>\n",
       "      <td>BenchmarkTest00041</td>\n",
       "      <td>xss</td>\n",
       "      <td>True</td>\n",
       "      <td>0</td>\n",
       "    </tr>\n",
       "    <tr>\n",
       "      <th>...</th>\n",
       "      <td>...</td>\n",
       "      <td>...</td>\n",
       "      <td>...</td>\n",
       "      <td>...</td>\n",
       "    </tr>\n",
       "    <tr>\n",
       "      <th>2692</th>\n",
       "      <td>BenchmarkTest02693</td>\n",
       "      <td>xss</td>\n",
       "      <td>False</td>\n",
       "      <td>0</td>\n",
       "    </tr>\n",
       "    <tr>\n",
       "      <th>2693</th>\n",
       "      <td>BenchmarkTest02694</td>\n",
       "      <td>xss</td>\n",
       "      <td>False</td>\n",
       "      <td>0</td>\n",
       "    </tr>\n",
       "    <tr>\n",
       "      <th>2694</th>\n",
       "      <td>BenchmarkTest02695</td>\n",
       "      <td>xss</td>\n",
       "      <td>False</td>\n",
       "      <td>0</td>\n",
       "    </tr>\n",
       "    <tr>\n",
       "      <th>2695</th>\n",
       "      <td>BenchmarkTest02696</td>\n",
       "      <td>xss</td>\n",
       "      <td>False</td>\n",
       "      <td>0</td>\n",
       "    </tr>\n",
       "    <tr>\n",
       "      <th>2711</th>\n",
       "      <td>BenchmarkTest02712</td>\n",
       "      <td>xss</td>\n",
       "      <td>False</td>\n",
       "      <td>0</td>\n",
       "    </tr>\n",
       "  </tbody>\n",
       "</table>\n",
       "<p>455 rows × 4 columns</p>\n",
       "</div>"
      ],
      "text/plain": [
       "             # test name  category   real vulnerability  predicted\n",
       "12    BenchmarkTest00013       xss                 True          0\n",
       "13    BenchmarkTest00014       xss                 True          0\n",
       "29    BenchmarkTest00030       xss                 True          0\n",
       "35    BenchmarkTest00036       xss                 True          0\n",
       "40    BenchmarkTest00041       xss                 True          0\n",
       "...                  ...       ...                  ...        ...\n",
       "2692  BenchmarkTest02693       xss                False          0\n",
       "2693  BenchmarkTest02694       xss                False          0\n",
       "2694  BenchmarkTest02695       xss                False          0\n",
       "2695  BenchmarkTest02696       xss                False          0\n",
       "2711  BenchmarkTest02712       xss                False          0\n",
       "\n",
       "[455 rows x 4 columns]"
      ]
     },
     "execution_count": 16,
     "metadata": {},
     "output_type": "execute_result"
    }
   ],
   "source": [
    "tmp"
   ]
  },
  {
   "cell_type": "code",
   "execution_count": 21,
   "id": "07cd1cf5",
   "metadata": {},
   "outputs": [
    {
     "data": {
      "text/plain": [
       "161"
      ]
     },
     "execution_count": 21,
     "metadata": {},
     "output_type": "execute_result"
    }
   ],
   "source": [
    "zap_unique = list(set(zap_errors))\n",
    "len(zap_unique)"
   ]
  },
  {
   "cell_type": "code",
   "execution_count": 17,
   "id": "8009dd18",
   "metadata": {},
   "outputs": [],
   "source": [
    "tmp['predicted'] = tmp['# test name'].apply(lambda x: 1 if x in merge_errors else 0)"
   ]
  },
  {
   "cell_type": "code",
   "execution_count": 18,
   "id": "a6cc80ae",
   "metadata": {},
   "outputs": [],
   "source": [
    "filetam = tmp[tmp['predicted'] == 1]['# test name'].tolist()"
   ]
  },
  {
   "cell_type": "code",
   "execution_count": 27,
   "id": "a280afd8",
   "metadata": {},
   "outputs": [
    {
     "name": "stdout",
     "output_type": "stream",
     "text": [
      "48\n"
     ]
    }
   ],
   "source": [
    "ans = []\n",
    "for i in zap_unique:\n",
    "    if i in filetam:\n",
    "        # Do something\n",
    "        continue\n",
    "    else:\n",
    "        ans.append(i)\n",
    "print(len(ans))"
   ]
  },
  {
   "cell_type": "code",
   "execution_count": 28,
   "id": "e1658df4",
   "metadata": {},
   "outputs": [
    {
     "data": {
      "text/plain": [
       "['BenchmarkTest01011;',\n",
       " 'BenchmarkTest01882;',\n",
       " 'BenchmarkTest01883;',\n",
       " 'BenchmarkTest01885;',\n",
       " 'BenchmarkTest00109;',\n",
       " 'BenchmarkTest00996;',\n",
       " 'BenchmarkTest01890;',\n",
       " 'BenchmarkTest01000;',\n",
       " 'BenchmarkTest00107;',\n",
       " 'BenchmarkTest01012;',\n",
       " 'BenchmarkTest01880;',\n",
       " 'BenchmarkTest00998;',\n",
       " 'BenchmarkTest01887;',\n",
       " 'BenchmarkTest00104;',\n",
       " 'BenchmarkTest01001;',\n",
       " 'BenchmarkTest00100;',\n",
       " 'BenchmarkTest00113;',\n",
       " 'BenchmarkTest01888;',\n",
       " 'BenchmarkTest00997;',\n",
       " 'BenchmarkTest01884;',\n",
       " 'BenchmarkTest00112;',\n",
       " 'BenchmarkTest01886;',\n",
       " 'BenchmarkTest01879;',\n",
       " 'BenchmarkTest01889;',\n",
       " 'BenchmarkTest00105;',\n",
       " 'BenchmarkTest00101;',\n",
       " 'BenchmarkTest01007;',\n",
       " 'BenchmarkTest01878;',\n",
       " 'BenchmarkTest01009;',\n",
       " 'BenchmarkTest01002;',\n",
       " 'BenchmarkTest01891;',\n",
       " 'BenchmarkTest00108;',\n",
       " 'BenchmarkTest00114;',\n",
       " 'BenchmarkTest01006;',\n",
       " 'BenchmarkTest00110;',\n",
       " 'BenchmarkTest01010;',\n",
       " 'BenchmarkTest01008;',\n",
       " 'BenchmarkTest00102;',\n",
       " 'BenchmarkTest00106;',\n",
       " 'BenchmarkTest00103;',\n",
       " 'BenchmarkTest01881;',\n",
       " 'BenchmarkTest00111;',\n",
       " 'BenchmarkTest00999;',\n",
       " 'BenchmarkTest01003;',\n",
       " 'BenchmarkTest01005;',\n",
       " 'BenchmarkTest00115;',\n",
       " 'BenchmarkTest01877;',\n",
       " 'BenchmarkTest01004;']"
      ]
     },
     "execution_count": 28,
     "metadata": {},
     "output_type": "execute_result"
    }
   ],
   "source": [
    "ans"
   ]
  },
  {
   "cell_type": "code",
   "execution_count": 19,
   "id": "fa15123d",
   "metadata": {},
   "outputs": [
    {
     "data": {
      "text/html": [
       "<div>\n",
       "<style scoped>\n",
       "    .dataframe tbody tr th:only-of-type {\n",
       "        vertical-align: middle;\n",
       "    }\n",
       "\n",
       "    .dataframe tbody tr th {\n",
       "        vertical-align: top;\n",
       "    }\n",
       "\n",
       "    .dataframe thead th {\n",
       "        text-align: right;\n",
       "    }\n",
       "</style>\n",
       "<table border=\"1\" class=\"dataframe\">\n",
       "  <thead>\n",
       "    <tr style=\"text-align: right;\">\n",
       "      <th></th>\n",
       "      <th># test name</th>\n",
       "      <th>category</th>\n",
       "      <th>real vulnerability</th>\n",
       "      <th>predicted</th>\n",
       "    </tr>\n",
       "  </thead>\n",
       "  <tbody>\n",
       "    <tr>\n",
       "      <th>29</th>\n",
       "      <td>BenchmarkTest00030</td>\n",
       "      <td>xss</td>\n",
       "      <td>True</td>\n",
       "      <td>1</td>\n",
       "    </tr>\n",
       "    <tr>\n",
       "      <th>40</th>\n",
       "      <td>BenchmarkTest00041</td>\n",
       "      <td>xss</td>\n",
       "      <td>True</td>\n",
       "      <td>1</td>\n",
       "    </tr>\n",
       "    <tr>\n",
       "      <th>46</th>\n",
       "      <td>BenchmarkTest00047</td>\n",
       "      <td>xss</td>\n",
       "      <td>True</td>\n",
       "      <td>1</td>\n",
       "    </tr>\n",
       "    <tr>\n",
       "      <th>47</th>\n",
       "      <td>BenchmarkTest00048</td>\n",
       "      <td>xss</td>\n",
       "      <td>True</td>\n",
       "      <td>1</td>\n",
       "    </tr>\n",
       "    <tr>\n",
       "      <th>48</th>\n",
       "      <td>BenchmarkTest00049</td>\n",
       "      <td>xss</td>\n",
       "      <td>True</td>\n",
       "      <td>1</td>\n",
       "    </tr>\n",
       "    <tr>\n",
       "      <th>...</th>\n",
       "      <td>...</td>\n",
       "      <td>...</td>\n",
       "      <td>...</td>\n",
       "      <td>...</td>\n",
       "    </tr>\n",
       "    <tr>\n",
       "      <th>2590</th>\n",
       "      <td>BenchmarkTest02591</td>\n",
       "      <td>xss</td>\n",
       "      <td>True</td>\n",
       "      <td>1</td>\n",
       "    </tr>\n",
       "    <tr>\n",
       "      <th>2594</th>\n",
       "      <td>BenchmarkTest02595</td>\n",
       "      <td>xss</td>\n",
       "      <td>True</td>\n",
       "      <td>1</td>\n",
       "    </tr>\n",
       "    <tr>\n",
       "      <th>2597</th>\n",
       "      <td>BenchmarkTest02598</td>\n",
       "      <td>xss</td>\n",
       "      <td>True</td>\n",
       "      <td>1</td>\n",
       "    </tr>\n",
       "    <tr>\n",
       "      <th>2599</th>\n",
       "      <td>BenchmarkTest02600</td>\n",
       "      <td>xss</td>\n",
       "      <td>True</td>\n",
       "      <td>1</td>\n",
       "    </tr>\n",
       "    <tr>\n",
       "      <th>2607</th>\n",
       "      <td>BenchmarkTest02608</td>\n",
       "      <td>xss</td>\n",
       "      <td>True</td>\n",
       "      <td>1</td>\n",
       "    </tr>\n",
       "  </tbody>\n",
       "</table>\n",
       "<p>138 rows × 4 columns</p>\n",
       "</div>"
      ],
      "text/plain": [
       "             # test name  category   real vulnerability  predicted\n",
       "29    BenchmarkTest00030       xss                 True          1\n",
       "40    BenchmarkTest00041       xss                 True          1\n",
       "46    BenchmarkTest00047       xss                 True          1\n",
       "47    BenchmarkTest00048       xss                 True          1\n",
       "48    BenchmarkTest00049       xss                 True          1\n",
       "...                  ...       ...                  ...        ...\n",
       "2590  BenchmarkTest02591       xss                 True          1\n",
       "2594  BenchmarkTest02595       xss                 True          1\n",
       "2597  BenchmarkTest02598       xss                 True          1\n",
       "2599  BenchmarkTest02600       xss                 True          1\n",
       "2607  BenchmarkTest02608       xss                 True          1\n",
       "\n",
       "[138 rows x 4 columns]"
      ]
     },
     "execution_count": 19,
     "metadata": {},
     "output_type": "execute_result"
    }
   ],
   "source": [
    "tmp[tmp['predicted']==1]"
   ]
  },
  {
   "cell_type": "code",
   "execution_count": 20,
   "id": "7f086dcd",
   "metadata": {},
   "outputs": [
    {
     "name": "stdout",
     "output_type": "stream",
     "text": [
      "TP: 138, FP: 0, TN: 209, FN: 108\n"
     ]
    }
   ],
   "source": [
    "TP = ((tmp[' real vulnerability'] == 1) & (tmp['predicted'] == 1)).sum()\n",
    "FP = ((tmp[' real vulnerability'] == 0) & (tmp['predicted'] == 1)).sum()\n",
    "TN = ((tmp[' real vulnerability'] == 0) & (tmp['predicted'] == 0)).sum()\n",
    "FN = ((tmp[' real vulnerability'] == 1) & (tmp['predicted'] == 0)).sum()\n",
    "\n",
    "print(f\"TP: {TP}, FP: {FP}, TN: {TN}, FN: {FN}\")"
   ]
  },
  {
   "cell_type": "code",
   "execution_count": null,
   "id": "02343467",
   "metadata": {},
   "outputs": [],
   "source": []
  },
  {
   "cell_type": "code",
   "execution_count": 218,
   "id": "d4225330",
   "metadata": {},
   "outputs": [],
   "source": [
    "params = [ \"BenchmarkTest00041\", \"BenchmarkTest00047\", \"BenchmarkTest00048\", \"BenchmarkTest00049\", \"BenchmarkTest00382\", \"BenchmarkTest00387\", \"BenchmarkTest00467\", \"BenchmarkTest00472\", \"BenchmarkTest00477\", \"BenchmarkTest00492\", \"BenchmarkTest00644\", \"BenchmarkTest00719\", \"BenchmarkTest00724\", \"BenchmarkTest00729\", \"BenchmarkTest00800\", \"BenchmarkTest00801\", \"BenchmarkTest00802\", \"BenchmarkTest00803\", \"BenchmarkTest00804\", \"BenchmarkTest00805\", \"BenchmarkTest00806\", \"BenchmarkTest00807\", \"BenchmarkTest00809\", \"BenchmarkTest00810\", \"BenchmarkTest00811\", \"BenchmarkTest00822\", \"BenchmarkTest01253\", \"BenchmarkTest01258\", \"BenchmarkTest01263\", \"BenchmarkTest01268\", \"BenchmarkTest01506\", \"BenchmarkTest01511\", \"BenchmarkTest01596\", \"BenchmarkTest01657\", \"BenchmarkTest01658\", \"BenchmarkTest01660\", \"BenchmarkTest01662\", \"BenchmarkTest01665\", \"BenchmarkTest01667\", \"BenchmarkTest01670\", \"BenchmarkTest02123\", \"BenchmarkTest02133\", \"BenchmarkTest02223\", \"BenchmarkTest02228\", \"BenchmarkTest02402\", \"BenchmarkTest02487\", \"BenchmarkTest02578\", \"BenchmarkTest02579\", \"BenchmarkTest02580\", \"BenchmarkTest02582\", \"BenchmarkTest02583\", \"BenchmarkTest02584\", \"BenchmarkTest02586\", \"BenchmarkTest02587\", \"BenchmarkTest02588\", \"BenchmarkTest02591\", \"BenchmarkTest02595\", \"BenchmarkTest02598\", \"BenchmarkTest02600\", \"BenchmarkTest02608\", \"BenchmarkTest00030\", \"BenchmarkTest00375\", \"BenchmarkTest00376\", \"BenchmarkTest00378\", \"BenchmarkTest00380\", \"BenchmarkTest00383\", \"BenchmarkTest00384\", \"BenchmarkTest00385\", \"BenchmarkTest00388\", \"BenchmarkTest00390\", \"BenchmarkTest00395\", \"BenchmarkTest00473\", \"BenchmarkTest00475\", \"BenchmarkTest00478\", \"BenchmarkTest00642\", \"BenchmarkTest00643\", \"BenchmarkTest00645\", \"BenchmarkTest00651\", \"BenchmarkTest00656\", \"BenchmarkTest00711\", \"BenchmarkTest00715\", \"BenchmarkTest00720\", \"BenchmarkTest00721\", \"BenchmarkTest00725\", \"BenchmarkTest00728\", \"BenchmarkTest00737\", \"BenchmarkTest01254\", \"BenchmarkTest01257\", \"BenchmarkTest01259\", \"BenchmarkTest01260\", \"BenchmarkTest01261\", \"BenchmarkTest01266\", \"BenchmarkTest01267\", \"BenchmarkTest01284\", \"BenchmarkTest01335\", \"BenchmarkTest01337\", \"BenchmarkTest01346\", \"BenchmarkTest01347\", \"BenchmarkTest01349\", \"BenchmarkTest01350\", \"BenchmarkTest01505\", \"BenchmarkTest01507\", \"BenchmarkTest01509\", \"BenchmarkTest01510\", \"BenchmarkTest01583\", \"BenchmarkTest01584\", \"BenchmarkTest01587\", \"BenchmarkTest01589\", \"BenchmarkTest01590\", \"BenchmarkTest01592\", \"BenchmarkTest01594\", \"BenchmarkTest01597\", \"BenchmarkTest01598\", \"BenchmarkTest02126\", \"BenchmarkTest02127\", \"BenchmarkTest02129\", \"BenchmarkTest02130\", \"BenchmarkTest02132\", \"BenchmarkTest02136\", \"BenchmarkTest02145\", \"BenchmarkTest02224\", \"BenchmarkTest02225\", \"BenchmarkTest02227\", \"BenchmarkTest02232\", \"BenchmarkTest02234\", \"BenchmarkTest02241\", \"BenchmarkTest02396\", \"BenchmarkTest02399\", \"BenchmarkTest02400\", \"BenchmarkTest02403\", \"BenchmarkTest02405\", \"BenchmarkTest02409\", \"BenchmarkTest02410\", \"BenchmarkTest02480\", \"BenchmarkTest02483\", \"BenchmarkTest02489\", \"BenchmarkTest02493\"]"
   ]
  },
  {
   "cell_type": "code",
   "execution_count": 219,
   "id": "bf88ced2",
   "metadata": {},
   "outputs": [
    {
     "data": {
      "text/plain": [
       "137"
      ]
     },
     "execution_count": 219,
     "metadata": {},
     "output_type": "execute_result"
    }
   ],
   "source": [
    "len(params)"
   ]
  },
  {
   "cell_type": "code",
   "execution_count": 221,
   "id": "5bdc1077",
   "metadata": {},
   "outputs": [
    {
     "name": "stdout",
     "output_type": "stream",
     "text": [
      "BenchmarkTest00392\n",
      "137\n"
     ]
    }
   ],
   "source": [
    "ans = 0\n",
    "for i in wapiti_errors:\n",
    "    if i in params:\n",
    "        ans += 1\n",
    "    else:\n",
    "        print(i)\n",
    "print(ans)"
   ]
  },
  {
   "cell_type": "code",
   "execution_count": 166,
   "id": "d2ae0eff",
   "metadata": {},
   "outputs": [
    {
     "name": "stdout",
     "output_type": "stream",
     "text": [
      "Số lượng không phải 'wapiti-internal-server-error': 46\n",
      "Số lượng merge_errors unique: 40\n"
     ]
    }
   ],
   "source": [
    "tahphop = [\"10010\",\"10011\",\"10054\"]\n",
    "merge_errors = []\n",
    "for run in vul_merge:\n",
    "    for result in run.get('results', []):\n",
    "        if result.get('ruleId') in tahphop:\n",
    "            if len(result.get('locations', [{}])[0].get('physicalLocation', {}).get('artifactLocation', {}).get('uri')) != 2:\n",
    "                url = result.get('locations', [{}])[0].get('physicalLocation', {}).get('artifactLocation', {}).get('uri')\n",
    "                cond = url.split(\"/\")[-1].split(\"?\")[0]\n",
    "                merge_errors.append(cond)\n",
    "            else:\n",
    "                url = result.get('locations', [{}])[0].get('physicalLocation', {}).get('artifactLocation', {}).get('uri')[1]\n",
    "                cond = url.split(\" \")[2].split(\"/\")[-1].split(\"?\")[0]\n",
    "                merge_errors.append(cond)\n",
    "\n",
    "print(\"Số lượng không phải 'wapiti-internal-server-error':\", len(merge_errors))\n",
    "print(\"Số lượng merge_errors unique:\", len(set(merge_errors)))\n",
    "merge_errors = list(set(merge_errors))"
   ]
  },
  {
   "cell_type": "code",
   "execution_count": 167,
   "id": "d10f3052",
   "metadata": {},
   "outputs": [
    {
     "data": {
      "text/plain": [
       "['BenchmarkTest01280',\n",
       " 'BenchmarkTest02710',\n",
       " 'BenchmarkTest01682',\n",
       " 'BenchmarkTest00977',\n",
       " 'BenchmarkTest00736',\n",
       " 'BenchmarkTest00087',\n",
       " 'BenchmarkTest01861',\n",
       " 'BenchmarkTest01134',\n",
       " 'BenchmarkTest01281',\n",
       " 'BenchmarkTest02507',\n",
       " 'BenchmarkTest00820',\n",
       " 'BenchmarkTest00565',\n",
       " 'BenchmarkTest01863',\n",
       " 'BenchmarkTest00300',\n",
       " 'BenchmarkTest02339',\n",
       " 'BenchmarkTest01862',\n",
       " 'BenchmarkTest00821',\n",
       " 'BenchmarkTest00903',\n",
       " 'BenchmarkTest00241',\n",
       " 'BenchmarkTest02709',\n",
       " 'BenchmarkTest00089',\n",
       " 'BenchmarkTest00169',\n",
       " 'BenchmarkTest01683',\n",
       " 'BenchmarkTest01283',\n",
       " 'BenchmarkTest01789',\n",
       " 'BenchmarkTest00348',\n",
       " 'BenchmarkTest02005',\n",
       " 'BenchmarkTest01282',\n",
       " 'BenchmarkTest01185',\n",
       " 'BenchmarkTest01521',\n",
       " 'BenchmarkTest00491',\n",
       " 'BenchmarkTest02142',\n",
       " 'BenchmarkTest00403',\n",
       " 'BenchmarkTest01061',\n",
       " 'BenchmarkTest01186',\n",
       " 'BenchmarkTest02427',\n",
       " 'BenchmarkTest01187',\n",
       " 'BenchmarkTest00088',\n",
       " 'BenchmarkTest00170',\n",
       " 'BenchmarkTest00566']"
      ]
     },
     "execution_count": 167,
     "metadata": {},
     "output_type": "execute_result"
    }
   ],
   "source": [
    "merge_errors"
   ]
  },
  {
   "cell_type": "code",
   "execution_count": 183,
   "id": "1d9825bf",
   "metadata": {},
   "outputs": [
    {
     "data": {
      "text/plain": [
       "[]"
      ]
     },
     "execution_count": 183,
     "metadata": {},
     "output_type": "execute_result"
    }
   ],
   "source": [
    "vul_wapiti"
   ]
  },
  {
   "cell_type": "code",
   "execution_count": 31,
   "id": "960069e1",
   "metadata": {},
   "outputs": [
    {
     "name": "stdout",
     "output_type": "stream",
     "text": [
      "Duplicate error found: BenchmarkTest01689\n",
      "Duplicate error found: BenchmarkTest00409\n",
      "Duplicate error found: BenchmarkTest00480\n",
      "Duplicate error found: BenchmarkTest00496\n",
      "Duplicate error found: BenchmarkTest00498\n",
      "Duplicate error found: BenchmarkTest00731\n",
      "Duplicate error found: BenchmarkTest00740\n",
      "Duplicate error found: BenchmarkTest01270\n",
      "Duplicate error found: BenchmarkTest01286\n",
      "Duplicate error found: BenchmarkTest01287\n",
      "Duplicate error found: BenchmarkTest01362\n",
      "Duplicate error found: BenchmarkTest01517\n",
      "Duplicate error found: BenchmarkTest01533\n",
      "Duplicate error found: BenchmarkTest02137\n",
      "Duplicate error found: BenchmarkTest02150\n",
      "Duplicate error found: BenchmarkTest02151\n",
      "Duplicate error found: BenchmarkTest02152\n",
      "Duplicate error found: BenchmarkTest02155\n",
      "Duplicate error found: BenchmarkTest02244\n",
      "Duplicate error found: BenchmarkTest02251\n",
      "Duplicate error found: BenchmarkTest02411\n",
      "Duplicate error found: BenchmarkTest02414\n",
      "Duplicate error found: BenchmarkTest02429\n",
      "Duplicate error found: BenchmarkTest02430\n",
      "Duplicate error found: BenchmarkTest02431\n",
      "Duplicate error found: BenchmarkTest02433\n",
      "Duplicate error found: BenchmarkTest02496\n",
      "Duplicate error found: BenchmarkTest02511\n",
      "Duplicate error found: BenchmarkTest02514\n",
      "Duplicate error found: BenchmarkTest02516\n",
      "30\n"
     ]
    }
   ],
   "source": [
    "ans = 0\n",
    "for i in range(len(merge_errors) - 1):\n",
    "    for j in range(i+1, len(merge_errors)):\n",
    "        if merge_errors[i] == merge_errors[j]:\n",
    "            print(f\"Duplicate error found: {merge_errors[i]}\")\n",
    "            ans += 1\n",
    "print(ans)"
   ]
  },
  {
   "cell_type": "code",
   "execution_count": null,
   "id": "e8a8609e",
   "metadata": {},
   "outputs": [],
   "source": []
  }
 ],
 "metadata": {
  "kernelspec": {
   "display_name": "Python 3",
   "language": "python",
   "name": "python3"
  },
  "language_info": {
   "codemirror_mode": {
    "name": "ipython",
    "version": 3
   },
   "file_extension": ".py",
   "mimetype": "text/x-python",
   "name": "python",
   "nbconvert_exporter": "python",
   "pygments_lexer": "ipython3",
   "version": "3.13.2"
  }
 },
 "nbformat": 4,
 "nbformat_minor": 5
}
